{
  "nbformat": 4,
  "nbformat_minor": 0,
  "metadata": {
    "colab": {
      "provenance": []
    },
    "kernelspec": {
      "name": "python3",
      "display_name": "Python 3"
    },
    "language_info": {
      "name": "python"
    }
  },
  "cells": [
    {
      "cell_type": "markdown",
      "source": [
        "# Setting Up VM Instance"
      ],
      "metadata": {
        "id": "e8566V9ykedW"
      }
    },
    {
      "cell_type": "code",
      "execution_count": null,
      "metadata": {
        "id": "kgSDvcrij9dF"
      },
      "outputs": [],
      "source": [
        "from chi import server, context\n",
        "import chi, os, time, datetime\n",
        "\n",
        "context.version = \"1.0\"\n",
        "context.choose_project()\n",
        "context.choose_site(default=\"KVM@TACC\")"
      ]
    },
    {
      "cell_type": "code",
      "source": [
        "username = os.getenv('USER') # all exp resources will have this prefix\n",
        "s = server.Server(\n",
        "    f\"node-eval-offline-{username}\",\n",
        "    image_name=\"CC-Ubuntu24.04\",\n",
        "    flavor_name=\"m1.medium\"\n",
        ")\n",
        "s.submit(idempotent=True)"
      ],
      "metadata": {
        "id": "KqCRDioJkrtq"
      },
      "execution_count": null,
      "outputs": []
    },
    {
      "cell_type": "code",
      "source": [
        "s.associate_floating_ip()"
      ],
      "metadata": {
        "id": "DRn8pSCKkuBc"
      },
      "execution_count": null,
      "outputs": []
    },
    {
      "cell_type": "code",
      "source": [
        "s.refresh()\n",
        "s.check_connectivity()"
      ],
      "metadata": {
        "id": "dY_3aXJ7kxzZ"
      },
      "execution_count": null,
      "outputs": []
    },
    {
      "cell_type": "code",
      "source": [
        "s.refresh()\n",
        "s.show(type=\"widget\")"
      ],
      "metadata": {
        "id": "eksVDLe-k0ag"
      },
      "execution_count": null,
      "outputs": []
    },
    {
      "cell_type": "code",
      "source": [
        "security_groups = [\n",
        "  {'name': \"allow-ssh\", 'port': 22, 'description': \"Enable SSH traffic on TCP port 22\"},\n",
        "  {'name': \"allow-8888\", 'port': 8888, 'description': \"Enable TCP port 8888 (used by Jupyter)\"}\n",
        "]"
      ],
      "metadata": {
        "id": "y8et51f3k2lp"
      },
      "execution_count": null,
      "outputs": []
    },
    {
      "cell_type": "code",
      "source": [
        "# configure openstacksdk for actions unsupported by python-chi\n",
        "os_conn = chi.clients.connection()\n",
        "nova_server = chi.nova().servers.get(s.id)\n",
        "\n",
        "for sg in security_groups:\n",
        "\n",
        "  if not os_conn.get_security_group(sg['name']):\n",
        "      os_conn.create_security_group(sg['name'], sg['description'])\n",
        "      os_conn.create_security_group_rule(sg['name'], port_range_min=sg['port'], port_range_max=sg['port'], protocol='tcp', remote_ip_prefix='0.0.0.0/0')\n",
        "\n",
        "  nova_server.add_security_group(sg['name'])\n",
        "\n",
        "print(f\"updated security groups: {[group.name for group in nova_server.list_security_group()]}\")"
      ],
      "metadata": {
        "id": "zLKE2Zqmk84I"
      },
      "execution_count": null,
      "outputs": []
    },
    {
      "cell_type": "markdown",
      "source": [
        "#Retrieve code and notebooks on the instance"
      ],
      "metadata": {
        "id": "smRZ5u-Dk_wW"
      }
    },
    {
      "cell_type": "code",
      "source": [
        "s.execute(\"git clone https://github.com/shettynitis/LLM_LegalDocSummarization.git\")\n",
        "s.execute(\"cd LLM_LegalDocSummarization && git checkout Serving\")"
      ],
      "metadata": {
        "id": "94g5UJ1glAjf"
      },
      "execution_count": null,
      "outputs": []
    },
    {
      "cell_type": "markdown",
      "source": [
        "# Set up Docker"
      ],
      "metadata": {
        "id": "1LkerntBlPe9"
      }
    },
    {
      "cell_type": "code",
      "source": [
        "s.execute(\"curl -sSL https://get.docker.com/ | sudo sh\")\n",
        "s.execute(\"sudo groupadd -f docker; sudo usermod -aG docker $USER\")"
      ],
      "metadata": {
        "id": "vIn0UZPRlNfm"
      },
      "execution_count": null,
      "outputs": []
    },
    {
      "cell_type": "markdown",
      "source": [
        "# Open an SSH session\n",
        "\n",
        "Finally, open an SSH sesson on your server. From your local terminal, run\n",
        "```\n",
        "ssh -i ~/.ssh/project_shared cc@A.B.C.D\n",
        "```"
      ],
      "metadata": {
        "id": "whBG0H5KlafM"
      }
    },
    {
      "cell_type": "markdown",
      "source": [
        "# Prepare data\n",
        "\n",
        "- On the compute instance, install rclone:\n",
        "\n",
        "```\n",
        "# run on node-persist\n",
        "curl https://rclone.org/install.sh | sudo bash\n",
        "```\n",
        "\n",
        "\n",
        "```\n",
        "# run on node-persist\n",
        "# this line makes sure user_allow_other is un-commented in /etc/fuse.conf\n",
        "sudo sed -i '/^#user_allow_other/s/^#//' /etc/fuse.conf\n",
        "```\n",
        "\n",
        "```\n",
        "# run on node-persist\n",
        "mkdir -p ~/.config/rclone\n",
        "nano  ~/.config/rclone/rclone.conf # Add the file Sakshi sent\n",
        "rclone lsd chi_tacc:\n",
        "```\n",
        "\n",
        "- Now present node Object Volume\n",
        "\n",
        "```\n",
        "# run on node-persist\n",
        "sudo mkdir -p /mnt/LlamaData\n",
        "sudo chown -R cc /mnt/LlamaData\n",
        "sudo chgrp -R cc /mnt/LlamaData\n",
        "\n",
        "# run on node-persist\n",
        "rclone mount chi_tacc:object-persist-project33 /mnt/LlamaData --read-only --allow-other --daemon\n",
        "  \n",
        "```"
      ],
      "metadata": {
        "id": "Yfmd3XGPlgOh"
      }
    },
    {
      "cell_type": "markdown",
      "source": [
        "# Launch a Jupyter container\n",
        "\n",
        "```\n",
        "docker run  -d --rm  -p 8888:8888 \\\n",
        "    -v ~/eval-offline-chi/workspace:/home/jovyan/work/ \\\n",
        "    -v /mnt/LlamaData:/mnt/ \\\n",
        "    -e LLAMA_DATA_DIR=/mnt/LlamaData \\\n",
        "    --name jupyter \\\n",
        "    quay.io/jupyter/pytorch-notebook:pytorch-2.5.1\n",
        "```\n",
        "\n",
        "```\n",
        "# run on node-eval-offline\n",
        "docker logs jupyter\n",
        "```\n",
        "\n"
      ],
      "metadata": {
        "id": "IlalEDsUm1u9"
      }
    }
  ]
}