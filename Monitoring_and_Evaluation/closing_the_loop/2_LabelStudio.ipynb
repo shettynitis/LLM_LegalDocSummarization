{
  "cells": [
    {
      "cell_type": "markdown",
      "metadata": {
        "id": "lf_5YhMOdyIT"
      },
      "source": [
        "## Closing the feedback loop with human feedback”\n",
        "\n",
        "As our prject is LLM related model we can only say how good the data is.\n"
      ]
    },
    {
      "cell_type": "markdown",
      "metadata": {
        "id": "iwR-Bo3LdyIV"
      },
      "source": [
        "### Start Label Studio\n",
        "\n",
        "``` bash\n",
        "# runs on node-eval-loop\n",
        "docker compose -f LLM_LegalDocSummarization/Monitoring_and_Evaluation/closing_the_loop//docker/docker-compose-labelstudio.yaml up -d\n",
        "```\n",
        "\n",
        "Note that Label Studio is now running *in addition to* the Flask, FastAPI, and MinIO services we started in the previous section."
      ]
    },
    {
      "cell_type": "markdown",
      "metadata": {
        "id": "Av1ntFyxdyIV"
      },
      "source": [
        "### Label production images in Label Studio\n",
        "\n",
        "In a browser we will open,\n",
        "\n",
        "    http://A.B.C.D:8080\n",
        "\n",
        "\n",
        "> Review and appropriate food images submitted to production service.\n",
        "\n",
        "Then, where it says “Add choices”,  we can add two labels liek Yes or No\n",
        "\n",
        "and click “Add”.\n",
        "\n",
        "In the UI Preview area, you can see what the interface for the human annotators will look like. The long list of class labels is not very usable. To fix it, toggle from “Visual” to “Code” setting on the left side panel. Find the line\n",
        "\n",
        "``` html\n",
        "  <Choices name=\"choice\" toName=\"image\" >\n",
        "```\n",
        "\n",
        "and change it to\n",
        "\n",
        "``` html\n",
        "  <Choices name=\"choice\" toName=\"image\"  showInLine=\"true\" >\n",
        "```\n",
        "\n",
        "and verify that the UI preview looks better.\n",
        "\n",
        "Also change\n",
        "\n",
        "``` html\n",
        "  <Image name=\"image\" value=\"$image\"/>\n",
        "```\n",
        "\n",
        "to\n",
        "\n",
        "``` html\n",
        "  <Image name=\"image\" value=\"$image\" maxWidth=\"500px\"/>\n",
        "```\n",
        "\n",
        "Next, we need to configure other project details. From inside the project, click on the “Settings” button.\n",
        "\n",
        "Then, in the “Cloud Storage” section, click on “Add Source Storage”. Fill in the details as follows (leave any that are unspecified blank):\n",
        "\n",
        "-   Storage type: AWS S3 (MinIO is an S3-compatible object store service)\n",
        "-   Storage title: MinIO\n",
        "-   Bucket name: production\n",
        "-   S3 endpoint: http://A.B.C.D:9000 (**substitute the floating IP address assigned to your instance**)\n",
        "-   Access key ID: your-access-key\n",
        "-   Secret access key: your-secret-key\n",
        "-   Treat every bucket object as a source file: checked (so that each object in the bucket is interpreted as an image to classify)\n",
        "-   Recursive scan: checked (so that it will look inside all of the class-specific directories)\n",
        "\n",
        "Click “Check connection”, then, if it is successful, “Add storage”.\n",
        "\n",
        "Then, click “Sync storage” and look for a “Completed” message.\n",
        "\n",
        "Now, when you click on the project in the Label Studio interface, you will see a list of images to label! Use the Web UI to label the images. Then, take a screenshot of the project dashboard, showing the list of images and the first letters of your name next to each image in the “Annotated by” column."
      ]
    },
    {
      "cell_type": "markdown",
      "metadata": {
        "id": "CSI-Twc-dyIW"
      },
      "source": [
        "Now that we have ground truth labels for the “production” data, we can evaluate the performance of our model on this production data.\n",
        "\n",
        "We’ll do this interactively inside a Jupyter notebook. Run\n",
        "\n",
        "``` bash\n",
        "# runs on node-eval-loop\n",
        "docker logs jupyter\n",
        "```\n",
        "\n",
        "and look for a line like\n",
        "\n",
        "    http://127.0.0.1:8888/lab?token=XXXXXXXXXXXXXXXXXXXXXXXXXXXXXXXXXXXXXXXXXXXXXXXX\n",
        "\n",
        "Paste this into a browser tab, but in place of `127.0.0.1`, substitute the floating IP assigned to your instance, to open the Jupyter notebook interface.\n",
        "\n",
        "In the file browser on the left side, open the `work` directory."
      ]
    }
  ],
  "nbformat": 4,
  "nbformat_minor": 0,
  "metadata": {
    "kernelspec": {
      "name": "python3",
      "display_name": "Python 3 (ipykernel)",
      "language": "python"
    },
    "language_info": {
      "name": "python",
      "codemirror_mode": {
        "name": "ipython",
        "version": "3"
      },
      "file_extension": ".py",
      "mimetype": "text/x-python"
    },
    "colab": {
      "provenance": []
    }
  }
}