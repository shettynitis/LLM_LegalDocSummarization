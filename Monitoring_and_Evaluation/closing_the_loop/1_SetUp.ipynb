{
  "cells": [
    {
      "cell_type": "markdown",
      "metadata": {
        "id": "7PDECDMccGqM"
      },
      "source": [
        "## Launch and set up a VM instance"
      ]
    },
    {
      "cell_type": "code",
      "execution_count": null,
      "metadata": {
        "id": "6OqJaQr0cGqN"
      },
      "outputs": [],
      "source": [
        "from chi import server, context\n",
        "import chi, os, time, datetime\n",
        "\n",
        "context.version = \"1.0\"\n",
        "context.choose_project()\n",
        "context.choose_site(default=\"KVM@TACC\")"
      ]
    },
    {
      "cell_type": "code",
      "execution_count": null,
      "metadata": {
        "id": "pLxpggjQcGqP"
      },
      "outputs": [],
      "source": [
        "username = os.getenv('USER') # all exp resources will have this prefix\n",
        "s = server.Server(\n",
        "    f\"node-eval-loop-{username}\",\n",
        "    image_name=\"CC-Ubuntu24.04\",\n",
        "    flavor_name=\"m1.medium\"\n",
        ")\n",
        "s.submit(idempotent=True)"
      ]
    },
    {
      "cell_type": "markdown",
      "metadata": {
        "id": "O-k1b6vJcGqP"
      },
      "source": [
        "Then, we’ll associate a floating IP with the instance:"
      ]
    },
    {
      "cell_type": "code",
      "execution_count": null,
      "metadata": {
        "id": "WBRI4A9PcGqP"
      },
      "outputs": [],
      "source": [
        "s.associate_floating_ip()"
      ]
    },
    {
      "cell_type": "code",
      "execution_count": null,
      "metadata": {
        "id": "RXo2_Yl8cGqP"
      },
      "outputs": [],
      "source": [
        "s.refresh()\n",
        "s.check_connectivity()"
      ]
    },
    {
      "cell_type": "markdown",
      "metadata": {
        "id": "4XeAR63vcGqQ"
      },
      "source": [
        "In the output below, make a note of the floating IP that has been assigned to your instance (in the “Addresses” row)."
      ]
    },
    {
      "cell_type": "code",
      "execution_count": null,
      "metadata": {
        "id": "Z5P1T932cGqQ"
      },
      "outputs": [],
      "source": [
        "s.refresh()\n",
        "s.show(type=\"widget\")"
      ]
    },
    {
      "cell_type": "code",
      "execution_count": null,
      "metadata": {
        "id": "1tyqeLL5cGqQ"
      },
      "outputs": [],
      "source": [
        "security_groups = [\n",
        "  {'name': \"allow-ssh\", 'port': 22, 'description': \"Enable SSH traffic on TCP port 22\"},\n",
        "  {'name': \"allow-5000\", 'port': 5000, 'description': \"Enable TCP port 5000 (used by Flask)\"},\n",
        "  {'name': \"allow-8000\", 'port': 8000, 'description': \"Enable TCP port 8000 (used by FastAPI)\"},\n",
        "  {'name': \"allow-8888\", 'port': 8888, 'description': \"Enable TCP port 8888 (used by Jupyter)\"},\n",
        "  {'name': \"allow-9000\", 'port': 9000, 'description': \"Enable TCP port 9000 (used by MinIO API)\"},\n",
        "  {'name': \"allow-9001\", 'port': 9001, 'description': \"Enable TCP port 9001 (used by MinIO Web UI)\"},\n",
        "  {'name': \"allow-8080\", 'port': 8080, 'description': \"Enable TCP port 8080 (used by cAdvisor, Label Studio, Airflow)\"},\n",
        "  {'name': \"allow-8081\", 'port': 8081, 'description': \"Enable TCP port 8081 (alt for 8080)\"}\n",
        "\n",
        "]"
      ]
    },
    {
      "cell_type": "code",
      "execution_count": null,
      "metadata": {
        "id": "5aRbR5C6cGqQ"
      },
      "outputs": [],
      "source": [
        "# configure openstacksdk for actions unsupported by python-chi\n",
        "os_conn = chi.clients.connection()\n",
        "nova_server = chi.nova().servers.get(s.id)\n",
        "\n",
        "for sg in security_groups:\n",
        "\n",
        "  if not os_conn.get_security_group(sg['name']):\n",
        "      os_conn.create_security_group(sg['name'], sg['description'])\n",
        "      os_conn.create_security_group_rule(sg['name'], port_range_min=sg['port'], port_range_max=sg['port'], protocol='tcp', remote_ip_prefix='0.0.0.0/0')\n",
        "\n",
        "  nova_server.add_security_group(sg['name'])\n",
        "\n",
        "print(f\"updated security groups: {[group.name for group in nova_server.list_security_group()]}\")"
      ]
    },
    {
      "cell_type": "markdown",
      "metadata": {
        "id": "plzPOaUqcGqR"
      },
      "source": [
        "### Retrieve code and notebooks on the instance\n",
        "\n",
        "Now, we can use `python-chi` to execute commands on the instance, to set it up. We’ll start by retrieving the code and other materials on the instance."
      ]
    },
    {
      "cell_type": "code",
      "execution_count": null,
      "metadata": {
        "id": "-l41cW68cGqR"
      },
      "outputs": [],
      "source": [
        "s.execute(\"git clone https://github.com/teaching-on-testbeds/eval-loop-chi\")"
      ]
    },
    {
      "cell_type": "markdown",
      "metadata": {
        "id": "IZO8dG5TcGqR"
      },
      "source": [
        "### Set up Docker\n",
        "\n",
        "Here, we will set up the container framework."
      ]
    },
    {
      "cell_type": "code",
      "execution_count": null,
      "metadata": {
        "id": "Qx5w2XTycGqR"
      },
      "outputs": [],
      "source": [
        "s.execute(\"curl -sSL https://get.docker.com/ | sudo sh\")\n",
        "s.execute(\"sudo groupadd -f docker; sudo usermod -aG docker $USER\")"
      ]
    },
    {
      "cell_type": "markdown",
      "metadata": {
        "id": "PstnE3jvcGqR"
      },
      "source": [
        "## Open an SSH session\n",
        "\n",
        "Finally, open an SSH sesson on your server. From your local terminal, run\n",
        "\n",
        "    ssh -i ~/.ssh/id_rsa_chameleon cc@A.B.C.D\n",
        "\n",
        "where\n",
        "\n",
        "-   in place of `~/.ssh/id_rsa_chameleon`, substitute the path to your own key that you had uploaded to KVM@TACC\n",
        "-   in place of `A.B.C.D`, use the floating IP address you just associated to your instance."
      ]
    }
  ],
  "nbformat": 4,
  "nbformat_minor": 0,
  "metadata": {
    "kernelspec": {
      "name": "python3",
      "display_name": "Python 3 (ipykernel)",
      "language": "python"
    },
    "language_info": {
      "name": "python",
      "codemirror_mode": {
        "name": "ipython",
        "version": "3"
      },
      "file_extension": ".py",
      "mimetype": "text/x-python"
    },
    "colab": {
      "provenance": []
    }
  }
}