{
 "cells": [
  {
   "cell_type": "markdown",
   "metadata": {
    "id": "YLZcUOG63mWO"
   },
   "source": [
    "# Fast API"
   ]
  },
  {
   "cell_type": "code",
   "execution_count": null,
   "metadata": {
    "id": "HTEsN_6Z6WQ1"
   },
   "outputs": [],
   "source": [
    "docker run -d --gpus all -p 8000:8000 \\\n",
    "  -v /home/cc/triton_repo:/models \\\n",
    "  nvcr.io/nvidia/tritonserver:24.05-py3 \\\n",
    "  tritonserver --model-repository=/models\n"
   ]
  },
  {
   "cell_type": "markdown",
   "metadata": {
    "id": "Dx5IqTOGThcA"
   },
   "source": [
    "#Build a FastAPI ONNX micro-service (pattern from the hand-out)\n",
    "````\n",
    "docker compose -f docker-compose-fastapi.yaml up -d --build\n",
    "````\n",
    "\n",
    "````\n",
    "curl -X POST http://<IP>:8000/generate \\\n",
    "     -H \"Content-Type: application/json\" \\\n",
    "     -d '{\"prompt\":\"Summarise clause 7.2 in two lines\"}'\n",
    "````\n"
   ]
  }
 ],
 "metadata": {
  "colab": {
   "provenance": []
  },
  "kernelspec": {
   "display_name": "Python 3 (ipykernel)",
   "language": "python",
   "name": "python3"
  },
  "language_info": {
   "codemirror_mode": {
    "name": "ipython",
    "version": 3
   },
   "file_extension": ".py",
   "mimetype": "text/x-python",
   "name": "python",
   "nbconvert_exporter": "python",
   "pygments_lexer": "ipython3",
   "version": "3.12.8"
  }
 },
 "nbformat": 4,
 "nbformat_minor": 4
}
